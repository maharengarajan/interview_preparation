{
 "cells": [
  {
   "cell_type": "markdown",
   "id": "dda34ec0",
   "metadata": {},
   "source": [
    "Q1. What is python and what are its key advantages?"
   ]
  },
  {
   "cell_type": "raw",
   "id": "6331e8ff",
   "metadata": {},
   "source": [
    "Python is a high-level, general-purpose programming language that was created by Guido van Rossum and first released in 1991. Python has gained widespread popularity due to its simplicity, readability, and versatility. Here are some of its key advantages\n",
    "\n",
    "1. Readbilty - easy to write and read\n",
    "2. Versatillity - used for web development, data analysis, machine learning, scientific computing, automation, and more\n",
    "3. Open source - completely free\n",
    "4. High Level Language\n",
    "5. Support OOP's\n",
    "6. Strong in ML,DL and AI"
   ]
  },
  {
   "cell_type": "markdown",
   "id": "fe20dd43",
   "metadata": {},
   "source": [
    "Q2. Explain Python's GIL (Global Interpreter Lock)"
   ]
  },
  {
   "cell_type": "raw",
   "id": "23262ebb",
   "metadata": {},
   "source": [
    "In simple terms, the GIL is a mechanism that allows only one thread to execute Python code at any given time, even on multi-core processors."
   ]
  },
  {
   "cell_type": "markdown",
   "id": "443eca13",
   "metadata": {},
   "source": [
    "Q3. How do you handle exceptions in python?"
   ]
  },
  {
   "cell_type": "raw",
   "id": "125c4d5f",
   "metadata": {},
   "source": [
    "1.By using try and except block we can handle error\n",
    "2.We can raise our own custon exceptions using \"raise\" key word"
   ]
  },
  {
   "cell_type": "markdown",
   "id": "2d0a1c32",
   "metadata": {},
   "source": [
    "Q4. Difference b/w Tuple and List"
   ]
  },
  {
   "cell_type": "raw",
   "id": "713054dd",
   "metadata": {},
   "source": [
    "1. List mutable, tuble immutable \n",
    "2. once you create a tuple, you cannot change its elements. You cannot add, remove, or modify elements in a tuple after it    is created\n",
    "3. List defined [], Tuple defined ()"
   ]
  },
  {
   "cell_type": "markdown",
   "id": "911108d1",
   "metadata": {},
   "source": [
    "Q5. What are decorators in python and how do they work?"
   ]
  },
  {
   "cell_type": "raw",
   "id": "098c260c",
   "metadata": {},
   "source": [
    "decorators are a powerful and flexible way to modify or enhance the behavior of functions or methods without changing their code. Decorators are essentially functions that wrap or \"decorate\" other functions or methods. They are commonly used for tasks like logging, authentication, memoization, and more."
   ]
  },
  {
   "cell_type": "code",
   "execution_count": 1,
   "id": "d3e3d888",
   "metadata": {},
   "outputs": [],
   "source": [
    "import time\n",
    "\n",
    "def timing_decorator(func):\n",
    "    def wrapper(*args, **kwargs):\n",
    "        start_time = time.time()\n",
    "        result = func(*args, **kwargs)\n",
    "        end_time = time.time()\n",
    "        print(f\"{func.__name__} took {end_time - start_time} seconds to execute.\")\n",
    "        return result\n",
    "    return wrapper"
   ]
  },
  {
   "cell_type": "code",
   "execution_count": 3,
   "id": "0ddb4254",
   "metadata": {},
   "outputs": [
    {
     "name": "stdout",
     "output_type": "stream",
     "text": [
      "slow_function took 5.008206367492676 seconds to execute.\n"
     ]
    }
   ],
   "source": [
    "@timing_decorator\n",
    "def slow_function():\n",
    "    time.sleep(5)\n",
    "\n",
    "slow_function()\n"
   ]
  },
  {
   "cell_type": "markdown",
   "id": "0ce05fa8",
   "metadata": {},
   "source": [
    "Q6. Explain list comprehension"
   ]
  },
  {
   "cell_type": "code",
   "execution_count": 10,
   "id": "8aeebf02",
   "metadata": {},
   "outputs": [
    {
     "data": {
      "text/plain": [
       "[3]"
      ]
     },
     "execution_count": 10,
     "metadata": {},
     "output_type": "execute_result"
    }
   ],
   "source": [
    "l = [1,2,3]\n",
    "[i for i in l if i>2]"
   ]
  },
  {
   "cell_type": "code",
   "execution_count": 9,
   "id": "420e0896",
   "metadata": {},
   "outputs": [
    {
     "data": {
      "text/plain": [
       "[5, 6, 6, 4]"
      ]
     },
     "execution_count": 9,
     "metadata": {},
     "output_type": "execute_result"
    }
   ],
   "source": [
    "words = [\"apple\", \"banana\", \"cherry\", \"date\"]\n",
    "[len(word) for word in words]"
   ]
  },
  {
   "cell_type": "markdown",
   "id": "4a9065fd",
   "metadata": {},
   "source": [
    "Q7. What is the purpose of __init__.py file in python packages?"
   ]
  },
  {
   "cell_type": "raw",
   "id": "35179332",
   "metadata": {},
   "source": [
    "1. the __init__.py file serves a specific purpose when used in packages. It is a special Python file that is executed when a package is imported\n",
    "2. To summarize, the __init__.py file in a Python package serves as a way to initialize the package, define its public API, and provide package-level documentation. While it is not strictly required for package functionality, it is a common practice and can enhance the organization and usability of your package."
   ]
  },
  {
   "cell_type": "markdown",
   "id": "f5955423",
   "metadata": {},
   "source": [
    "Q8. How does memory management work in python"
   ]
  },
  {
   "cell_type": "raw",
   "id": "71797cc6",
   "metadata": {},
   "source": [
    "Python manages memory automatically through a combination of techniques, including reference counting, garbage collection, and memory allocation strategies"
   ]
  },
  {
   "cell_type": "markdown",
   "id": "5bf0acd3",
   "metadata": {},
   "source": [
    "Q9.difference between deep copy and shallow copy"
   ]
  },
  {
   "cell_type": "code",
   "execution_count": 14,
   "id": "51c1abce",
   "metadata": {},
   "outputs": [
    {
     "name": "stdout",
     "output_type": "stream",
     "text": [
      "[1, [99, 3]]\n",
      "[1, [99, 3]]\n"
     ]
    }
   ],
   "source": [
    "#Shallow copies create a new object with references to the same inner objects as the original.\n",
    "import copy\n",
    "\n",
    "original_list = [1, [2, 3]]\n",
    "shallow_copied_list = copy.copy(original_list)\n",
    "\n",
    "# Changes in inner objects are reflected in both lists\n",
    "shallow_copied_list[1][0] = 99\n",
    "print(original_list)        \n",
    "print(shallow_copied_list)  \n"
   ]
  },
  {
   "cell_type": "code",
   "execution_count": 16,
   "id": "f96c23f6",
   "metadata": {},
   "outputs": [
    {
     "name": "stdout",
     "output_type": "stream",
     "text": [
      "[1, [2, 3]]\n",
      "[1, [99, 3]]\n"
     ]
    }
   ],
   "source": [
    "#Deep copies create entirely new objects for both the outer container and all nested objects, \n",
    "#resulting in a fully independent copy\n",
    "import copy\n",
    "\n",
    "original_list = [1, [2, 3]]\n",
    "deep_copied_list = copy.deepcopy(original_list)\n",
    "\n",
    "# Changes in inner objects do not affect the original list\n",
    "deep_copied_list[1][0] = 99\n",
    "print(original_list)        \n",
    "print(deep_copied_list)    "
   ]
  },
  {
   "cell_type": "raw",
   "id": "aa30374d",
   "metadata": {},
   "source": [
    "The choice between deep copy and shallow copy depends on your specific needs. If you want to create a copy where changes in the inner objects do not affect the original, use a deep copy. If you are fine with shared references to inner objects between the original and the copy, a shallow copy may be sufficient and more memory-efficient"
   ]
  },
  {
   "cell_type": "markdown",
   "id": "1d8a844e",
   "metadata": {},
   "source": [
    "Q10. Python virtual environment and its importance"
   ]
  },
  {
   "cell_type": "raw",
   "id": "49ecd423",
   "metadata": {},
   "source": [
    "A Python virtual environment is a self-contained directory that encapsulates a specific Python interpreter along with its own set of libraries, packages, and dependencies.\n",
    "\n",
    "By utilizing Python virtual environments, you can effectively manage dependencies, versioning, and project isolation, making Python development more organized, maintainable, and reliable."
   ]
  },
  {
   "cell_type": "code",
   "execution_count": null,
   "id": "71e3e8f3",
   "metadata": {},
   "outputs": [],
   "source": []
  }
 ],
 "metadata": {
  "kernelspec": {
   "display_name": "Python 3 (ipykernel)",
   "language": "python",
   "name": "python3"
  },
  "language_info": {
   "codemirror_mode": {
    "name": "ipython",
    "version": 3
   },
   "file_extension": ".py",
   "mimetype": "text/x-python",
   "name": "python",
   "nbconvert_exporter": "python",
   "pygments_lexer": "ipython3",
   "version": "3.10.9"
  }
 },
 "nbformat": 4,
 "nbformat_minor": 5
}
